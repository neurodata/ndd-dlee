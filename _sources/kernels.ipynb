{
 "cells": [
  {
   "cell_type": "markdown",
   "metadata": {},
   "source": [
    "# Kernels\n",
    "\n",
    "Describe kernels. \n",
    "\n",
    "## Global Kernels\n",
    "\n",
    "## Node-wise Kernels\n",
    "Difference between matched and unmatched.\n",
    "\n",
    "## Edge-wise Kernels\n",
    "Difference between matched and unmatched.\n",
    "\n",
    "## Laplacian Spectral Distance\n",
    "\n",
    "## Omnibus\n",
    "\n",
    "## Latent Distribution Test Stat"
   ]
  }
 ],
 "metadata": {
  "interpreter": {
   "hash": "7e8666d8190e1c4ba3ba575221b29e27608238cc9068675599c456fa53e3686b"
  },
  "kernelspec": {
   "display_name": "Python 3.9.7 ('bilateral')",
   "language": "python",
   "name": "python3"
  },
  "language_info": {
   "name": "python",
   "version": "3.9.7"
  },
  "orig_nbformat": 4
 },
 "nbformat": 4,
 "nbformat_minor": 2
}
